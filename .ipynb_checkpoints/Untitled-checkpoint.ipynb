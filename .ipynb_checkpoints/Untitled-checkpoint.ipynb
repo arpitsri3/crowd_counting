{
 "cells": [
  {
   "cell_type": "code",
   "execution_count": null,
   "metadata": {},
   "outputs": [],
   "source": [
    "from keras.models import model_from_json\n",
    "import numpy\n",
    "import os\n",
    "import argparse\n",
    "import base64\n",
    "\n",
    "from keras.models import load_model\n",
    "import h5py\n",
    "from keras import __version__ as keras_version"
   ]
  },
  {
   "cell_type": "code",
   "execution_count": null,
   "metadata": {},
   "outputs": [],
   "source": [
    "# load json and create model\n",
    "json_file = open('model.json', 'r')\n",
    "loaded_model_json = json_file.read()\n",
    "json_file.close()\n",
    "loaded_model = model_from_json(loaded_model_json)\n",
    "# load weights into new model\n",
    "loaded_model.load_weights(\"weights.h5\")\n",
    "print(\"Loaded model from disk\")"
   ]
  },
  {
   "cell_type": "code",
   "execution_count": null,
   "metadata": {},
   "outputs": [],
   "source": [
    "print(loaded_model.summary())"
   ]
  },
  {
   "cell_type": "code",
   "execution_count": null,
   "metadata": {},
   "outputs": [],
   "source": [
    "f = h5py.File('weights.h5', mode='r')\n",
    "model_version = f.attrs.get('keras_version')\n",
    "keras_version = str(keras_version).encode('utf8')\n",
    "\n",
    "if model_version != keras_version:\n",
    "    print('You are using Keras version ', keras_version,', but the model was built using ', model_version)"
   ]
  },
  {
   "cell_type": "code",
   "execution_count": null,
   "metadata": {},
   "outputs": [],
   "source": [
    "import cv2\n",
    "\n",
    "img = cv2.imread('IMG_1.jpg', 0)\n",
    "print(img.shape)\n",
    "img = numpy.array(img)\n",
    "img = (img - 127.5) / 128\n",
    "print(img.shape[0])"
   ]
  },
  {
   "cell_type": "code",
   "execution_count": null,
   "metadata": {},
   "outputs": [],
   "source": [
    "#cv2.imshow('image',img)\n",
    "#cv2.waitKey(0)"
   ]
  },
  {
   "cell_type": "code",
   "execution_count": null,
   "metadata": {},
   "outputs": [],
   "source": [
    "x_in = numpy.reshape(img, (1, img.shape[0], img.shape[1], 1))\n",
    "output = loaded_model.predict(x_in, batch_size=1, verbose=1, steps=None)"
   ]
  },
  {
   "cell_type": "code",
   "execution_count": null,
   "metadata": {},
   "outputs": [],
   "source": [
    "#print(numpy.sum(output))\n",
    "#print(numpy.average(output))\n",
    "#print(numpy.sum(output)*10)"
   ]
  },
  {
   "cell_type": "code",
   "execution_count": null,
   "metadata": {},
   "outputs": [],
   "source": [
    "#cv2.imshow('image',output)\n",
    "#cv2.waitKey(0)\n",
    "#cv2.destroyAllWindows()"
   ]
  },
  {
   "cell_type": "code",
   "execution_count": null,
   "metadata": {},
   "outputs": [],
   "source": [
    "'''def heatmap(den, img):\n",
    "    #print('generating heat map for img', img)\n",
    "    print('shape:', den.shape)\n",
    "    \n",
    "    den_resized = numpy.zeros((den.shape[0] * 4, den.shape[1] * 4))\n",
    "    for i in range(den_resized.shape[0]):\n",
    "        for j in range(den_resized.shape[1]):\n",
    "            den_resized[i][j] = den[int(i / 4)][int(j / 4)] / 16\n",
    "    den = den_resized\n",
    "    \n",
    "    count = numpy.sum(den)\n",
    "    print(count)\n",
    "    '''"
   ]
  },
  {
   "cell_type": "code",
   "execution_count": null,
   "metadata": {},
   "outputs": [],
   "source": [
    "'''from pyheatmap.heatmap import HeatMap\n",
    "\n",
    "def heatmap(den, img):\n",
    "    print('generating heat map for img', img)\n",
    "    print('shape:', den.shape)\n",
    "    \n",
    "    den_resized = np.zeros((den.shape[0] * 4, den.shape[1] * 4))\n",
    "    for i in range(den_resized.shape[0]):\n",
    "        for j in range(den_resized.shape[1]):\n",
    "            den_resized[i][j] = den[int(i / 4)][int(j / 4)] / 16\n",
    "    den = den_resized\n",
    "    \n",
    "    count = np.sum(den)\n",
    "    print(count)\n",
    "    w = img.shape[1]\n",
    "    h = img.shape[0]\n",
    "     \n",
    "    data = []\n",
    "    for j in range(len(den)):\n",
    "        for i in range(len(den[0])):\n",
    "            for k in range(int(den[j][i])):\n",
    "                data.append([i + 1, j + 1])\n",
    "    hm = HeatMap(data, base = img_path + 'IMG_' + str(img) + '.jpg')\n",
    "    hm.heatmap(save_as = 'heat_' + dataset + '_' + str(img) + '_' + info + '_' + str(int(count)) + '.png')\n",
    "\n",
    "    ..."
   ]
  },
  {
   "cell_type": "code",
   "execution_count": null,
   "metadata": {},
   "outputs": [],
   "source": []
  },
  {
   "cell_type": "code",
   "execution_count": null,
   "metadata": {},
   "outputs": [],
   "source": []
  }
 ],
 "metadata": {
  "kernelspec": {
   "display_name": "Python [conda env:carnd-term1]",
   "language": "python",
   "name": "conda-env-carnd-term1-py"
  },
  "language_info": {
   "codemirror_mode": {
    "name": "ipython",
    "version": 3
   },
   "file_extension": ".py",
   "mimetype": "text/x-python",
   "name": "python",
   "nbconvert_exporter": "python",
   "pygments_lexer": "ipython3",
   "version": "3.5.2"
  },
  "widgets": {
   "state": {},
   "version": "1.1.2"
  }
 },
 "nbformat": 4,
 "nbformat_minor": 2
}
